{
 "cells": [
  {
   "cell_type": "code",
   "execution_count": 1,
   "id": "56318923",
   "metadata": {},
   "outputs": [
    {
     "name": "stdout",
     "output_type": "stream",
     "text": [
      "Requirement already satisfied: beautifulsoup4 in /home/ubuntu/.local/lib/python3.8/site-packages (4.12.3)\n",
      "Requirement already satisfied: soupsieve>1.2 in /home/ubuntu/.local/lib/python3.8/site-packages (from beautifulsoup4) (2.5)\n"
     ]
    }
   ],
   "source": [
    "!pip install beautifulsoup4 "
   ]
  },
  {
   "cell_type": "code",
   "execution_count": 2,
   "id": "b72063ef",
   "metadata": {},
   "outputs": [
    {
     "name": "stdout",
     "output_type": "stream",
     "text": [
      "Requirement already satisfied: lxml in /home/ubuntu/.local/lib/python3.8/site-packages (5.1.0)\n",
      "Note: you may need to restart the kernel to use updated packages.\n"
     ]
    }
   ],
   "source": [
    "pip install lxml"
   ]
  },
  {
   "cell_type": "code",
   "execution_count": 1,
   "id": "1586121f",
   "metadata": {},
   "outputs": [],
   "source": [
    "from bs4 import BeautifulSoup\n",
    "import requests\n",
    "import pandas as pd\n",
    "from time import sleep"
   ]
  },
  {
   "cell_type": "code",
   "execution_count": 2,
   "id": "5bd8eb02",
   "metadata": {},
   "outputs": [],
   "source": [
    "url = 'https://maps.nskgortrans.ru/qr_code/qr_forecast_2.php?id=30'"
   ]
  },
  {
   "cell_type": "code",
   "execution_count": 3,
   "id": "b35baf12",
   "metadata": {},
   "outputs": [],
   "source": [
    "r = requests.get(url)"
   ]
  },
  {
   "cell_type": "code",
   "execution_count": 4,
   "id": "57437e6c",
   "metadata": {},
   "outputs": [],
   "source": [
    "soup = BeautifulSoup(r.text, 'lxml')"
   ]
  },
  {
   "cell_type": "code",
   "execution_count": 5,
   "id": "c1d8768e",
   "metadata": {},
   "outputs": [
    {
     "data": {
      "text/plain": [
       "<!DOCTYPE html>\n",
       "<html lang=\"ru\">\n",
       "<head>\n",
       "<meta charset=\"utf-8\"/>\n",
       "<meta content=\"width=device-width, initial-scale=1\" name=\"viewport\"/>\n",
       "<title>прогноз прибытия на остановку Магазин \"Кристалл\"</title>\n",
       "</head>\n",
       "<body>\n",
       "<input onclick=\"location.href='http://m.nskgortrans.ru'\" type=\"button\" value=\"На главную\"/>\n",
       "<input onclick=\"location.reload()\" type=\"button\" value=\"Обновить\"/><br/><br/>\n",
       "\n",
       "Прогноз прибытия на остановку Магазин \"Кристалл\"\n",
       "<table class=\"dataTable row-border\">\n",
       "<thead>\n",
       "<tr>\n",
       "<th>\n",
       "                    маршрут\n",
       "                </th>\n",
       "<th>\n",
       "                    время ожидания\n",
       "                </th>\n",
       "<th>\n",
       "                    направление\n",
       "                </th>\n",
       "</tr>\n",
       "</thead>\n",
       "<tbody>\n",
       "</tbody></table>\n",
       "<link href=\"datatables.css\" rel=\"stylesheet\" type=\"text/css\"/>\n",
       "</body>\n",
       "</html>"
      ]
     },
     "execution_count": 5,
     "metadata": {},
     "output_type": "execute_result"
    }
   ],
   "source": [
    "soup"
   ]
  },
  {
   "cell_type": "code",
   "execution_count": 6,
   "id": "b3b62df6",
   "metadata": {},
   "outputs": [],
   "source": [
    "def bus_arrival():\n",
    "    url = 'https://maps.nskgortrans.ru/qr_code/qr_forecast_2.php?id=30'\n",
    "    r = requests.get(url)\n",
    "    soup = BeautifulSoup(r.text, 'lxml')\n",
    "        \n",
    "    buses = []\n",
    "    arrival = []\n",
    "\n",
    "    for t in soup.find_all('td'):\n",
    "        buses.append(t.text)\n",
    "\n",
    "    for i in range(len(buses)):\n",
    "        if buses[i] == 'прибытие':\n",
    "            arrival = buses[i-1]\n",
    "            print(arrival)\n",
    "        else:\n",
    "            print('Транспорт не прибывает в ближайшее время')\n",
    "    \n",
    "    return arrival\n"
   ]
  },
  {
   "cell_type": "code",
   "execution_count": 7,
   "id": "e736547f",
   "metadata": {},
   "outputs": [
    {
     "data": {
      "text/plain": [
       "<function __main__.bus_arrival()>"
      ]
     },
     "execution_count": 7,
     "metadata": {},
     "output_type": "execute_result"
    }
   ],
   "source": [
    "bus_arrival"
   ]
  },
  {
   "cell_type": "code",
   "execution_count": 10,
   "id": "119a934c",
   "metadata": {},
   "outputs": [
    {
     "name": "stdout",
     "output_type": "stream",
     "text": [
      "Collecting schedule\n",
      "  Downloading schedule-1.2.1-py2.py3-none-any.whl (11 kB)\n",
      "Installing collected packages: schedule\n",
      "Successfully installed schedule-1.2.1\n",
      "Note: you may need to restart the kernel to use updated packages.\n"
     ]
    }
   ],
   "source": [
    "pip install schedule"
   ]
  },
  {
   "cell_type": "code",
   "execution_count": 18,
   "id": "1282c7cd",
   "metadata": {},
   "outputs": [
    {
     "name": "stdout",
     "output_type": "stream",
     "text": [
      "Транспорт не прибывает в ближайшее время\n",
      "Транспорт не прибывает в ближайшее время\n",
      "Транспорт не прибывает в ближайшее время\n",
      "Транспорт не прибывает в ближайшее время\n",
      "Транспорт не прибывает в ближайшее время\n",
      "Транспорт не прибывает в ближайшее время\n",
      "Транспорт не прибывает в ближайшее время\n",
      "Транспорт не прибывает в ближайшее время\n",
      "Транспорт не прибывает в ближайшее время\n",
      "Транспорт не прибывает в ближайшее время\n",
      "Транспорт не прибывает в ближайшее время\n",
      "Транспорт не прибывает в ближайшее время\n",
      "Транспорт не прибывает в ближайшее время\n",
      "Транспорт не прибывает в ближайшее время\n",
      "Транспорт не прибывает в ближайшее время\n",
      "Транспорт не прибывает в ближайшее время\n",
      "Транспорт не прибывает в ближайшее время\n",
      "Транспорт не прибывает в ближайшее время\n",
      "Транспорт не прибывает в ближайшее время\n",
      "Транспорт не прибывает в ближайшее время\n",
      "Транспорт не прибывает в ближайшее время\n",
      "Транспорт не прибывает в ближайшее время\n",
      "Транспорт не прибывает в ближайшее время\n",
      "Транспорт не прибывает в ближайшее время\n",
      "Транспорт не прибывает в ближайшее время\n",
      "Транспорт не прибывает в ближайшее время\n",
      "Транспорт не прибывает в ближайшее время\n",
      "Транспорт не прибывает в ближайшее время\n",
      "Транспорт не прибывает в ближайшее время\n",
      "Транспорт не прибывает в ближайшее время\n",
      "Транспорт не прибывает в ближайшее время\n",
      "Транспорт не прибывает в ближайшее время\n",
      "Транспорт не прибывает в ближайшее время\n",
      "Транспорт не прибывает в ближайшее время\n",
      "Транспорт не прибывает в ближайшее время\n",
      "Транспорт не прибывает в ближайшее время\n",
      "Транспорт не прибывает в ближайшее время\n",
      "Транспорт не прибывает в ближайшее время\n",
      "Транспорт не прибывает в ближайшее время\n",
      "Транспорт не прибывает в ближайшее время\n",
      "Транспорт не прибывает в ближайшее время\n",
      "Транспорт не прибывает в ближайшее время\n"
     ]
    },
    {
     "ename": "KeyboardInterrupt",
     "evalue": "",
     "output_type": "error",
     "traceback": [
      "\u001b[0;31m---------------------------------------------------------------------------\u001b[0m",
      "\u001b[0;31mKeyboardInterrupt\u001b[0m                         Traceback (most recent call last)",
      "Cell \u001b[0;32mIn[18], line 8\u001b[0m\n\u001b[1;32m      6\u001b[0m \u001b[38;5;28;01mwhile\u001b[39;00m \u001b[38;5;28;01mTrue\u001b[39;00m:\n\u001b[1;32m      7\u001b[0m     schedule\u001b[38;5;241m.\u001b[39mrun_pending()\n\u001b[0;32m----> 8\u001b[0m     \u001b[43mtime\u001b[49m\u001b[38;5;241;43m.\u001b[39;49m\u001b[43msleep\u001b[49m\u001b[43m(\u001b[49m\u001b[38;5;241;43m10\u001b[39;49m\u001b[43m)\u001b[49m\n",
      "\u001b[0;31mKeyboardInterrupt\u001b[0m: "
     ]
    }
   ],
   "source": [
    "import schedule\n",
    "import time\n",
    "\n",
    "schedule.every(1).minutes.do(bus_arrival)\n",
    "\n",
    "while True:\n",
    "    schedule.run_pending()\n",
    "    time.sleep(10)"
   ]
  },
  {
   "cell_type": "code",
   "execution_count": 1,
   "id": "de399136",
   "metadata": {},
   "outputs": [
    {
     "data": {
      "text/plain": [
       "[]"
      ]
     },
     "execution_count": 1,
     "metadata": {},
     "output_type": "execute_result"
    }
   ],
   "source": [
    "import requests\n",
    "from bs4 import BeautifulSoup\n",
    "import pandas as pd\n",
    "import time\n",
    "import psycopg2\n",
    "from config import host, user, password, db_name\n",
    "\n",
    "def bus_arrival():\n",
    "    url = 'https://maps.nskgortrans.ru/qr_code/qr_forecast_2.php?id=31'\n",
    "    r = requests.get(url)\n",
    "    soup = BeautifulSoup(r.text, 'lxml')\n",
    "        \n",
    "    buses = []\n",
    "    arrival = []\n",
    "\n",
    "    for t in soup.find_all('td'):\n",
    "        buses.append(t.text)\n",
    "\n",
    "    for i in range(len(buses)):\n",
    "        if buses[i] == 'прибытие':\n",
    "            arrival = buses[i-1]\n",
    "            print(arrival)\n",
    "    return arrival\n",
    "\n",
    "    try:\n",
    "        # connect to exist database\n",
    "        connection = psycopg2.connect(\n",
    "            host=host,\n",
    "            user=user,\n",
    "            password=password,\n",
    "            database=db_name,   \n",
    "            port='5434'\n",
    "        )\n",
    "        connection.autocommit = True\n",
    "    \n",
    "        cursor = connection.cursor()\n",
    "\n",
    "        bus_stop_id = 1\n",
    "\n",
    "        route_id = 1\n",
    "\n",
    "        route_name = arrival\n",
    " \n",
    "        # Определение запроса с несколькими переменными\n",
    "        query = 'INSERT INTO public.\"Bus_arrival\" VALUES (NOW(), %s, %s, %s)'\n",
    " \n",
    "        # Создание списка переменных\n",
    "        data = (bus_stop_id, route_id, route_name)\n",
    " \n",
    "        # Выполнение запроса\n",
    "        cursor.execute(query, data)\n",
    "        \n",
    "        print(\"[INFO] Data was succefully inserted\")\n",
    "\n",
    "        cursor.close()\n",
    "     \n",
    "           \n",
    "    except Exception as _ex:\n",
    "        print(\"[INFO] Error while working with PostgreSQL\", _ex)\n",
    "    finally:\n",
    "        if connection:\n",
    "            connection.close()\n",
    "            print(\"[INFO] PostgreSQL connection closed\")\n",
    "\n",
    "\n",
    "bus_arrival()\n",
    "\n",
    "#from apscheduler.schedulers.blocking import BlockingScheduler\n",
    "\n",
    "#scheduler = BlockingScheduler()\n",
    "#scheduler.add_job(weather, 'interval', hours=1)\n",
    "#scheduler.start()"
   ]
  },
  {
   "cell_type": "code",
   "execution_count": 50,
   "id": "b89f61e2",
   "metadata": {},
   "outputs": [
    {
     "data": {
      "text/plain": [
       "<!DOCTYPE html>\n",
       "<html lang=\"ru\">\n",
       "<head>\n",
       "<meta charset=\"utf-8\"/>\n",
       "<meta content=\"width=device-width, initial-scale=1\" name=\"viewport\"/>\n",
       "<title>прогноз прибытия на остановку Магазин \"Кристалл\"</title>\n",
       "</head>\n",
       "<body>\n",
       "<input onclick=\"location.href='http://m.nskgortrans.ru'\" type=\"button\" value=\"На главную\"/>\n",
       "<input onclick=\"location.reload()\" type=\"button\" value=\"Обновить\"/><br/><br/>\n",
       "\n",
       "Прогноз прибытия на остановку Магазин \"Кристалл\"\n",
       "<table class=\"dataTable row-border\">\n",
       "<thead>\n",
       "<tr>\n",
       "<th>\n",
       "                    маршрут\n",
       "                </th>\n",
       "<th>\n",
       "                    время ожидания\n",
       "                </th>\n",
       "<th>\n",
       "                    направление\n",
       "                </th>\n",
       "</tr>\n",
       "</thead>\n",
       "<tbody>\n",
       "<tr><td>6 автобус</td><td>21 мин.</td><td>ул. Амбулаторная</td></tr><tr><td>8 троллейбус</td><td>5 мин.</td><td>ТЭЦ-5</td></tr></tbody></table>\n",
       "<link href=\"datatables.css\" rel=\"stylesheet\" type=\"text/css\"/>\n",
       "</body>\n",
       "</html>"
      ]
     },
     "execution_count": 50,
     "metadata": {},
     "output_type": "execute_result"
    }
   ],
   "source": []
  },
  {
   "cell_type": "code",
   "execution_count": 57,
   "id": "2686ab01",
   "metadata": {},
   "outputs": [],
   "source": [
    "bus_route_dict = {'14 автобус':1, 2:'6 автобус', 3:'8 троллейбус', 4: '68 автобус', '88 автобус':5, 6: '16 автобус', \n",
    "                  7:'7 троллейбус', 8: '45 автобус', 9:'63 маршрутное такси'}"
   ]
  },
  {
   "cell_type": "code",
   "execution_count": 58,
   "id": "176bd599",
   "metadata": {},
   "outputs": [
    {
     "data": {
      "text/plain": [
       "5"
      ]
     },
     "execution_count": 58,
     "metadata": {},
     "output_type": "execute_result"
    }
   ],
   "source": [
    "arrival = '88 автобус'\n",
    "route_id = bus_route_dict[arrival]\n",
    "route_id "
   ]
  },
  {
   "cell_type": "code",
   "execution_count": 61,
   "id": "b003f88d",
   "metadata": {},
   "outputs": [
    {
     "name": "stdout",
     "output_type": "stream",
     "text": [
      "8 троллейбус\n"
     ]
    },
    {
     "data": {
      "text/plain": [
       "['7 троллейбус',\n",
       " '12 мин.',\n",
       " 'ул. Лазурная',\n",
       " '8 троллейбус',\n",
       " ' прибытие ',\n",
       " 'ТЭЦ-5',\n",
       " '45 автобус',\n",
       " '13 мин.',\n",
       " 'Центральный корпус']"
      ]
     },
     "execution_count": 61,
     "metadata": {},
     "output_type": "execute_result"
    }
   ],
   "source": [
    "url = 'https://maps.nskgortrans.ru/qr_code/qr_forecast_2.php?id=31'\n",
    "r = requests.get(url)\n",
    "soup = BeautifulSoup(r.text, 'lxml')\n",
    "\n",
    "buses = []\n",
    "arrival = []\n",
    "\n",
    "for t in soup.find_all('td'):\n",
    "    buses.append(t.text)\n",
    "\n",
    "for i in range(len(buses)):\n",
    "    if buses[i] == ' прибытие ':\n",
    "        arrival = buses[i-1]\n",
    "        print(arrival)\n",
    "buses"
   ]
  },
  {
   "cell_type": "code",
   "execution_count": 24,
   "id": "48a5e379",
   "metadata": {},
   "outputs": [
    {
     "name": "stdout",
     "output_type": "stream",
     "text": [
      "No\n"
     ]
    }
   ],
   "source": [
    "if arriva == []:\n",
    "    print('No')"
   ]
  },
  {
   "cell_type": "code",
   "execution_count": 22,
   "id": "1fd90609",
   "metadata": {},
   "outputs": [],
   "source": [
    "arriva = []"
   ]
  },
  {
   "cell_type": "code",
   "execution_count": 43,
   "id": "44e52ff3",
   "metadata": {},
   "outputs": [
    {
     "data": {
      "text/plain": [
       "['68 автобус',\n",
       " '20 мин.',\n",
       " 'М. \"Студенческая\"',\n",
       " '88 автобус',\n",
       " '16 мин.',\n",
       " 'Центральный корпус',\n",
       " '16 автобус',\n",
       " '21 мин.',\n",
       " 'Центральный корпус',\n",
       " '7 троллейбус',\n",
       " '11 мин.',\n",
       " 'ул. Лазурная',\n",
       " '63 маршрутное такси',\n",
       " '3 мин.',\n",
       " 'Ключ-Камышенское плато',\n",
       " '6 автобус',\n",
       " '27 мин.',\n",
       " 'ул. Амбулаторная',\n",
       " '8 троллейбус',\n",
       " '4 мин.',\n",
       " 'ТЭЦ-5',\n",
       " '45 автобус',\n",
       " '18 мин.',\n",
       " 'Центральный корпус']"
      ]
     },
     "execution_count": 43,
     "metadata": {},
     "output_type": "execute_result"
    }
   ],
   "source": [
    "buses"
   ]
  },
  {
   "cell_type": "code",
   "execution_count": 18,
   "id": "4e78b47d",
   "metadata": {},
   "outputs": [
    {
     "data": {
      "text/plain": [
       "[]"
      ]
     },
     "execution_count": 18,
     "metadata": {},
     "output_type": "execute_result"
    }
   ],
   "source": [
    "arrival"
   ]
  },
  {
   "cell_type": "code",
   "execution_count": 4,
   "id": "2822e8b3",
   "metadata": {},
   "outputs": [
    {
     "ename": "SyntaxError",
     "evalue": "'return' outside function (1036880291.py, line 11)",
     "output_type": "error",
     "traceback": [
      "\u001b[0;36m  Cell \u001b[0;32mIn[4], line 11\u001b[0;36m\u001b[0m\n\u001b[0;31m    return arrival\u001b[0m\n\u001b[0m    ^\u001b[0m\n\u001b[0;31mSyntaxError\u001b[0m\u001b[0;31m:\u001b[0m 'return' outside function\n"
     ]
    }
   ],
   "source": [
    "buses = []\n",
    "arrival = []\n",
    "\n",
    "for t in soup.find_all('td'):\n",
    "    buses.append(t.text)\n",
    "\n",
    "for i in range(len(buses)):\n",
    "    if buses[i] == 'прибытие':\n",
    "        arrival = buses[i-1]\n",
    "        print(arrival)\n",
    "        return arrival\n",
    "\n",
    "    try:\n",
    "        # connect to exist database\n",
    "        connection = psycopg2.connect(\n",
    "            host=host,\n",
    "            user=user,\n",
    "            password=password,\n",
    "            database=db_name,   \n",
    "            port='5434'\n",
    "        )\n",
    "        connection.autocommit = True\n",
    "    \n",
    "        cursor = connection.cursor()\n",
    "\n",
    "        bus_stop_id = 1\n",
    "\n",
    "        route_id = 1\n",
    "\n",
    "        route_name = arrival\n",
    " \n",
    "        # Определение запроса с несколькими переменными\n",
    "        query = 'INSERT INTO public.\"Bus_arrival\" VALUES (NOW(), %s, %s, %s)'\n",
    " \n",
    "        # Создание списка переменных\n",
    "        data = (bus_stop_id, route_id, route_name)\n",
    " \n",
    "        # Выполнение запроса\n",
    "        cursor.execute(query, data)\n",
    "        \n",
    "        print(\"[INFO] Data was succefully inserted\")\n",
    "\n",
    "        cursor.close()\n",
    "     \n",
    "           \n",
    "    except Exception as _ex:\n",
    "        print(\"[INFO] Error while working with PostgreSQL\", _ex)\n",
    "    finally:\n",
    "        if connection:\n",
    "            connection.close()\n",
    "            print(\"[INFO] PostgreSQL connection closed\")"
   ]
  }
 ],
 "metadata": {
  "kernelspec": {
   "display_name": "Python 3 (ipykernel)",
   "language": "python",
   "name": "python3"
  },
  "language_info": {
   "codemirror_mode": {
    "name": "ipython",
    "version": 3
   },
   "file_extension": ".py",
   "mimetype": "text/x-python",
   "name": "python",
   "nbconvert_exporter": "python",
   "pygments_lexer": "ipython3",
   "version": "3.8.10"
  }
 },
 "nbformat": 4,
 "nbformat_minor": 5
}
